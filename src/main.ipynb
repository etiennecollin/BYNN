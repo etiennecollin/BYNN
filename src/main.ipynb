{
 "cells": [
  {
   "cell_type": "code",
   "execution_count": 17,
   "metadata": {
    "collapsed": false,
    "jupyter": {
     "outputs_hidden": false
    },
    "pycharm": {
     "name": "#%%\n"
    }
   },
   "outputs": [
    {
     "name": "stdout",
     "output_type": "stream",
     "text": [
      "tensor([[0.0890, 0.4929, 0.6886],\n",
      "        [0.3123, 0.9114, 0.0376],\n",
      "        [0.8435, 0.2093, 0.2980],\n",
      "        [0.1974, 0.1647, 0.1691],\n",
      "        [0.8388, 0.1121, 0.5960]])\n",
      "\n",
      "CUDA available: True\n"
     ]
    }
   ],
   "source": [
    "def pytorch_test():\n",
    "    import torch\n",
    "\tprint(f\"\\nCUDA available: {torch.cuda.is_available()}\")\n",
    "\tprint(f\"\\nCurrent CUDA device: {torch.cuda.current_device()}\")\n",
    "\tprint(f\"\\nCurrent CUDA device name: {torch.cuda.get_device_name(0)}\")\n",
    "\tdevice = torch.device(\"cuda:0\" if torch.cuda.is_available() else \"cpu\")\n",
    "\n",
    "    x = torch.rand(5, 3).to(device)\n",
    "\tprint(f\"\\nx: {x}\")\n",
    "\tprint(f\"\\nProcessed by CUDA: {x.is_cuda}\")\n",
    "\n",
    "\tX_train = torch.FloatTensor([0., 1., 2.]).to(device)\n",
    "\tprint(f\"\\nX_Train: {X_train}\")\n",
    "\tprint(f\"\\nProcessed by CUDA: {X_train.is_cuda}\")\n",
    "\n",
    "if __name__ == '__main__':\n",
    "    pytorch_test()"
   ]
  }
 ],
 "metadata": {
  "kernelspec": {
   "display_name": "mitosis",
   "language": "python",
   "name": "mitosis"
  },
  "language_info": {
   "codemirror_mode": {
    "name": "ipython",
    "version": 3
   },
   "file_extension": ".py",
   "mimetype": "text/x-python",
   "name": "python",
   "nbconvert_exporter": "python",
   "pygments_lexer": "ipython3",
   "version": "3.9.7"
  }
 },
 "nbformat": 4,
 "nbformat_minor": 4
}
