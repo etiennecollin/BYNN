{
 "cells": [
  {
   "cell_type": "code",
   "execution_count": 1,
   "metadata": {
    "collapsed": false,
    "jupyter": {
     "outputs_hidden": false
    },
    "pycharm": {
     "name": "#%%\n"
    }
   },
   "outputs": [
    {
     "name": "stdout",
     "output_type": "stream",
     "text": [
      "\n",
      "CUDA available: True\n",
      "\n",
      "Current CUDA device: 0\n",
      "\n",
      "Current CUDA device name: NVIDIA GeForce RTX 3080\n",
      "\n",
      "x: tensor([[0.0908, 0.6304, 0.3212],\n",
      "        [0.3654, 0.2166, 0.4843],\n",
      "        [0.2024, 0.7225, 0.6594],\n",
      "        [0.7686, 0.5777, 0.6204],\n",
      "        [0.2912, 0.2833, 0.0684]], device='cuda:0')\n",
      "\n",
      "Processed by CUDA: True\n",
      "\n",
      "X_Train: tensor([0., 1., 2.], device='cuda:0')\n",
      "\n",
      "Processed by CUDA: True\n"
     ]
    }
   ],
   "source": [
    "def pytorch_test():\n",
    "    import torch\n",
    "    print(f\"\\nCUDA available: {torch.cuda.is_available()}\")\n",
    "    print(f\"\\nCurrent CUDA device: {torch.cuda.current_device()}\")\n",
    "    print(f\"\\nCurrent CUDA device name: {torch.cuda.get_device_name(0)}\")\n",
    "    device = torch.device(\"cuda:0\" if torch.cuda.is_available() else \"cpu\")\n",
    "    \n",
    "    x = torch.rand(5, 3).to(device)\n",
    "    print(f\"\\nx: {x}\")\n",
    "    print(f\"\\nProcessed by CUDA: {x.is_cuda}\")\n",
    "    \n",
    "    X_train = torch.FloatTensor([0., 1., 2.]).to(device)\n",
    "    print(f\"\\nX_Train: {X_train}\")\n",
    "    print(f\"\\nProcessed by CUDA: {X_train.is_cuda}\")\n",
    "    \n",
    "if __name__ == '__main__':\n",
    "    pytorch_test()"
   ]
  },
  {
   "cell_type": "code",
   "execution_count": null,
   "metadata": {},
   "outputs": [],
   "source": []
  }
 ],
 "metadata": {
  "kernelspec": {
   "display_name": "bynn",
   "language": "python",
   "name": "bynn"
  },
  "language_info": {
   "codemirror_mode": {
    "name": "ipython",
    "version": 3
   },
   "file_extension": ".py",
   "mimetype": "text/x-python",
   "name": "python",
   "nbconvert_exporter": "python",
   "pygments_lexer": "ipython3",
   "version": "3.9.7"
  }
 },
 "nbformat": 4,
 "nbformat_minor": 4
}
