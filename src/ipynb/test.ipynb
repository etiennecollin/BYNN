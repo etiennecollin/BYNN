{
 "cells": [
  {
   "cell_type": "code",
<<<<<<< HEAD
   "execution_count": 8,
=======
   "execution_count": 250,
>>>>>>> b6e5e531684db2690a9629e58bd47a42302c7917
   "metadata": {},
   "outputs": [],
   "source": [
    "import torch\n",
    "import numpy as np\n",
    "from PIL import Image\n",
    "from tqdm import tqdm\n",
<<<<<<< HEAD
    "from torchvision import transforms\n",
    "import matplotlib.pyplot as plt"
=======
    "from torchvision import transforms"
>>>>>>> b6e5e531684db2690a9629e58bd47a42302c7917
   ]
  },
  {
   "cell_type": "code",
<<<<<<< HEAD
   "execution_count": 11,
=======
   "execution_count": 263,
>>>>>>> b6e5e531684db2690a9629e58bd47a42302c7917
   "metadata": {},
   "outputs": [],
   "source": [
<<<<<<< HEAD
    "img = Image.open(\"..\\..\\data\\images\\mitosis_img_001.jpg\").convert(\"L\").resize((320, 320))\n"
   ]
  },
  {
   "cell_type": "code",
   "execution_count": null,
   "metadata": {},
   "outputs": [],
   "source": [
=======
    "img = Image.open(\"..\\..\\data\\images\\mitosis_img_001.jpg\").convert(\"L\").resize((320, 320))\n",
>>>>>>> b6e5e531684db2690a9629e58bd47a42302c7917
    "images = np.empty((0, 32, 32))\n",
    "for i in tqdm(range(2)):\n",
    "    for k in (range(2)):\n",
    "        images = np.append(images, np.array(img.crop((k*2, i*2, k*2  + 32, i*2 + 32))).reshape(1, 32, 32), axis = 0)"
   ]
  },
  {
   "cell_type": "code",
<<<<<<< HEAD
   "execution_count": 12,
=======
   "execution_count": 301,
>>>>>>> b6e5e531684db2690a9629e58bd47a42302c7917
   "metadata": {},
   "outputs": [
    {
     "name": "stdout",
     "output_type": "stream",
     "text": [
      "torch.Size([1, 320, 320])\n"
     ]
    },
    {
     "name": "stderr",
     "output_type": "stream",
     "text": [
      "100%|██████████| 288/288 [01:21<00:00,  3.53it/s]\n"
     ]
    }
   ],
   "source": [
    "device = torch.device(\"cuda\" if torch.cuda.is_available() else \"cpu\")\n",
    "convert_tensor = transforms.ToTensor()\n",
    "t_img = convert_tensor(img).to(device)\n",
    "print(t_img.shape)\n",
    "t_images = torch.empty((0, 32, 32)).to(device)\n",
    "for i in tqdm(range(288)):\n",
    "    for k in (range(288)):\n",
    "        temp = (convert_tensor(img.crop((k, i, k  + 32, i + 32))).reshape(1, 32, 32)).to(device)\n",
    "        t_images = torch.cat((t_images, temp), axis = 0)"
   ]
  },
  {
   "cell_type": "code",
   "execution_count": 13,
   "metadata": {},
   "outputs": [
    {
     "data": {
      "text/plain": [
       "torch.Size([82944, 32, 32])"
      ]
     },
     "execution_count": 13,
     "metadata": {},
     "output_type": "execute_result"
    }
   ],
   "source": [
    "t_images.shape"
   ]
  },
  {
   "cell_type": "code",
   "execution_count": 16,
   "metadata": {},
   "outputs": [
    {
     "data": {
      "text/plain": [
       "<matplotlib.image.AxesImage at 0x2261112f8e0>"
      ]
     },
<<<<<<< HEAD
     "execution_count": 16,
=======
     "execution_count": 320,
>>>>>>> b6e5e531684db2690a9629e58bd47a42302c7917
     "metadata": {},
     "output_type": "execute_result"
    },
    {
     "data": {
      "image/png": "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",
      "text/plain": [
       "<Figure size 640x480 with 1 Axes>"
      ]
     },
     "metadata": {},
     "output_type": "display_data"
    }
   ],
   "source": [
<<<<<<< HEAD
    "plt.imshow(t_images[150].cpu(), cmap='gray')"
=======
    "plt.imshow(l_images[150].cpu(), cmap='gray')"
>>>>>>> b6e5e531684db2690a9629e58bd47a42302c7917
   ]
  },
  {
   "cell_type": "code",
   "execution_count": null,
   "metadata": {},
   "outputs": [],
   "source": []
  }
 ],
 "metadata": {
  "interpreter": {
   "hash": "63fd5069d213b44bf678585dea6b12cceca9941eaf7f819626cde1f2670de90d"
  },
  "kernelspec": {
   "display_name": "Python 3",
   "language": "python",
   "name": "python3"
  },
  "language_info": {
   "codemirror_mode": {
    "name": "ipython",
    "version": 3
   },
   "file_extension": ".py",
   "mimetype": "text/x-python",
   "name": "python",
   "nbconvert_exporter": "python",
   "pygments_lexer": "ipython3",
   "version": "3.9.4"
  }
 },
 "nbformat": 4,
 "nbformat_minor": 2
}
