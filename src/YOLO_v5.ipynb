{
 "cells": [
  {
   "cell_type": "code",
   "execution_count": null,
   "metadata": {},
   "outputs": [],
   "source": [
    "!git clone https://github.com/ultralytics/yolov5  # clone repo\n",
    "!pip install -U -r yolov5/requirements.txt  # install dependencies\n",
    "\n",
    "%cd ~/GitHub/BYNN/src/yolov5"
   ]
  },
  {
   "cell_type": "code",
   "execution_count": null,
   "metadata": {},
   "outputs": [],
   "source": [
    "import torch\n",
    "from IPython.display import Image  # for displaying images"
   ]
  },
  {
   "cell_type": "code",
   "execution_count": null,
   "metadata": {},
   "outputs": [],
   "source": [
    "import torch\n",
    "torch.cuda.empty_cache()\n",
    "\n",
    "%cd ~/GitHub/BYNN/src/yolov5\n",
    "\n",
    "!python train.py --img 640 --batch 4 --epochs 300 --data dataset/data.yaml --cfg ./models/custom_yolov5x.yaml --weights '' --name yolov5x_results  --cache"
   ]
  },
  {
   "cell_type": "code",
   "execution_count": null,
   "metadata": {},
   "outputs": [],
   "source": [
    "# Start tensorboard\n",
    "# Launch after you have started training\n",
    "# logs save in the folder \"runs\"\n",
    "%cd ~/GitHub/BYNN/src/yolov5\n",
    "%load_ext tensorboard\n",
    "%tensorboard --logdir runs"
   ]
  },
  {
   "cell_type": "code",
   "execution_count": null,
   "metadata": {},
   "outputs": [],
   "source": [
    "%cd ~/GitHub/BYNN/src/yolov5\n",
    "\n",
    "!python detect.py --weights runs/train/yolov5x_results/weights/best.pt --img 640 --conf 0.15 --source dataset/test/images"
   ]
  },
  {
   "cell_type": "code",
   "execution_count": null,
   "metadata": {},
   "outputs": [],
   "source": [
    "import glob\n",
    "from IPython.display import Image, display\n",
    "\n",
    "%cd ~/GitHub/BYNN/src/yolov5\n",
    "\n",
    "for imageName in glob.glob('runs/detect/exp/*.jpg'): #assuming JPG\n",
    "    display(Image(filename=imageName))\n",
    "    print(\"\\n\")"
   ]
  },
  {
   "cell_type": "code",
   "execution_count": null,
   "metadata": {},
   "outputs": [],
   "source": [
    "# optional, zip to download weights and results locally\n",
    "\n",
    "!zip -r export.zip runs/detect\n",
    "!zip -r export.zip runs/train/BYNN/weights/best.pt\n",
    "!zip export.zip runs/train/BYNN/*"
   ]
  }
 ],
 "metadata": {
  "kernelspec": {
   "display_name": "Python 3.9.12 ('BYNN')",
   "language": "python",
   "name": "python3"
  },
  "language_info": {
   "codemirror_mode": {
    "name": "ipython",
    "version": 3
   },
   "file_extension": ".py",
   "mimetype": "text/x-python",
   "name": "python",
   "nbconvert_exporter": "python",
   "pygments_lexer": "ipython3",
   "version": "3.9.12"
  },
  "orig_nbformat": 4,
  "vscode": {
   "interpreter": {
    "hash": "302b575fec66cde3d2d3896222577e951fbe37c96f436e4440dba2640b473c8f"
   }
  }
 },
 "nbformat": 4,
 "nbformat_minor": 2
}
