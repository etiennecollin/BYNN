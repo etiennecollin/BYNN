{
 "cells": [
  {
   "cell_type": "code",
   "execution_count": 1,
   "metadata": {},
   "outputs": [],
   "source": [
    "import torch\n",
    "from IPython.display import Image  # for displaying images"
   ]
  },
  {
   "cell_type": "code",
   "execution_count": 9,
   "metadata": {},
   "outputs": [
    {
     "name": "stdout",
     "output_type": "stream",
     "text": [
      "torch 2.0.1, MPS\n",
      "MPS available\n",
      "\n",
      "x: tensor([[0.3030, 0.8744, 0.2855],\n",
      "        [0.6257, 0.2990, 0.0341],\n",
      "        [0.6650, 0.0711, 0.0176],\n",
      "        [0.9049, 0.0464, 0.3816],\n",
      "        [0.4614, 0.1444, 0.7659]], device='mps:0')\n",
      "x Processed by CUDA: False\n",
      "x Processed by MPS: True\n",
      "\n",
      "x_Train: tensor([0., 1., 2.], device='mps:0')\n",
      "x_Train Processed by CUDA: False\n",
      "x_Train Processed by MPS: True\n"
     ]
    }
   ],
   "source": [
    "def pytorch_test():\n",
    "    if torch.cuda.is_available():\n",
    "        print(f\"torch {torch.__version__}, {torch.cuda.get_device_properties(0)}\")\n",
    "        print(\"CUDA available\")\n",
    "        print(f\"Current CUDA device: {torch.cuda.current_device()}\")\n",
    "        print(f\"Current CUDA device name: {torch.cuda.get_device_name(0)}\")\n",
    "        device = torch.device(\"cuda:0\")\n",
    "    if torch.backends.mps.is_available():\n",
    "        print(f\"torch {torch.__version__}, MPS\")\n",
    "        print(\"MPS available\")\n",
    "        device = torch.device(\"mps\")\n",
    "    else:\n",
    "        print(f\"torch {torch.__version__}, CPU\")\n",
    "        device = torch.device(\"cpu\")\n",
    "\n",
    "    x = torch.rand(5, 3).to(device)\n",
    "    print(f\"\\nx: {x}\")\n",
    "    print(f\"x Processed by CUDA: {x.is_cuda}\")\n",
    "    print(f\"x Processed by MPS: {x.is_mps}\")\n",
    "\n",
    "    x_train = torch.FloatTensor([0., 1., 2.]).to(device)\n",
    "    print(f\"\\nx_Train: {x_train}\")\n",
    "    print(f\"x_Train Processed by CUDA: {x_train.is_cuda}\")\n",
    "    print(f\"x_Train Processed by MPS: {x_train.is_mps}\")\n",
    "    \n",
    "if __name__ == '__main__':\n",
    "    pytorch_test()"
   ]
  },
  {
   "cell_type": "code",
   "execution_count": null,
   "metadata": {},
   "outputs": [],
   "source": []
  }
 ],
 "metadata": {
  "kernelspec": {
   "display_name": "Python 3.9.7 64-bit ('bynn-3.9.7')",
   "language": "python",
   "name": "python3"
  },
  "language_info": {
   "codemirror_mode": {
    "name": "ipython",
    "version": 3
   },
   "file_extension": ".py",
   "mimetype": "text/x-python",
   "name": "python",
   "nbconvert_exporter": "python",
   "pygments_lexer": "ipython3",
   "version": "3.11.3"
  },
  "orig_nbformat": 4,
  "vscode": {
   "interpreter": {
    "hash": "9390b986bf34af505f50b45368493869e7e4c37731e3256b6c0c8d7474edccba"
   }
  }
 },
 "nbformat": 4,
 "nbformat_minor": 2
}
