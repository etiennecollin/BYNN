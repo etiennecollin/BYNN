{
 "cells": [
  {
   "cell_type": "code",
   "execution_count": 1,
   "metadata": {},
   "outputs": [],
   "source": [
    "import torch\n",
    "from IPython.display import Image  # for displaying images"
   ]
  },
  {
   "cell_type": "code",
   "execution_count": 2,
   "metadata": {},
   "outputs": [
    {
     "name": "stdout",
     "output_type": "stream",
     "text": [
      "torch 1.10.2+cu113 _CudaDeviceProperties(name='NVIDIA GeForce RTX 3080', major=8, minor=6, total_memory=10018MB, multi_processor_count=68)\n",
      "\n",
      "CUDA available.\n",
      "\n",
      "Current CUDA device: 0\n",
      "\n",
      "Current CUDA device name: NVIDIA GeForce RTX 3080\n",
      "\n",
      "x: tensor([[0.1743, 0.1933, 0.0498],\n",
      "        [0.3610, 0.4229, 0.1343],\n",
      "        [0.6205, 0.3860, 0.1791],\n",
      "        [0.7899, 0.5146, 0.0604],\n",
      "        [0.1398, 0.8949, 0.8013]], device='cuda:0')\n",
      "\n",
      " x Processed by CUDA: True\n",
      "\n",
      "X_Train: tensor([0., 1., 2.], device='cuda:0')\n",
      "\n",
      "X_Train Processed by CUDA: True\n"
     ]
    }
   ],
   "source": [
    "def pytorch_test():\n",
    "\tif torch.cuda.is_available():\n",
    "\t\tprint('torch %s %s' % (torch.__version__, torch.cuda.get_device_properties(0)))\n",
    "\t\tprint(\"\\nCUDA available.\")\n",
    "\t\tprint(f\"\\nCurrent CUDA device: {torch.cuda.current_device()}\")\n",
    "\t\tprint(f\"\\nCurrent CUDA device name: {torch.cuda.get_device_name(0)}\")\n",
    "\t\tdevice = torch.device(\"cuda:0\")\n",
    "\telse:\n",
    "\t\tprint('torch %s %s' % (torch.__version__, \"CPU\"))\n",
    "\t\tdevice = torch.device(\"cpu\")\n",
    "\n",
    "\tx = torch.rand(5, 3).to(device)\n",
    "\tprint(f\"\\nx: {x}\")\n",
    "\tprint(f\"\\n x Processed by CUDA: {x.is_cuda}\")\n",
    "\n",
    "\tX_train = torch.FloatTensor([0., 1., 2.]).to(device)\n",
    "\tprint(f\"\\nX_Train: {X_train}\")\n",
    "\tprint(f\"\\nX_Train Processed by CUDA: {X_train.is_cuda}\")\n",
    "    \n",
    "if __name__ == '__main__':\n",
    "\tpytorch_test()"
   ]
  },
  {
   "cell_type": "code",
   "execution_count": null,
   "metadata": {},
   "outputs": [],
   "source": []
  }
 ],
 "metadata": {
  "kernelspec": {
   "display_name": "Python 3.9.7 64-bit ('bynn-3.9.7')",
   "language": "python",
   "name": "python3"
  },
  "language_info": {
   "codemirror_mode": {
    "name": "ipython",
    "version": 3
   },
   "file_extension": ".py",
   "mimetype": "text/x-python",
   "name": "python",
   "nbconvert_exporter": "python",
   "pygments_lexer": "ipython3",
   "version": "3.9.7"
  },
  "orig_nbformat": 4,
  "vscode": {
   "interpreter": {
    "hash": "9390b986bf34af505f50b45368493869e7e4c37731e3256b6c0c8d7474edccba"
   }
  }
 },
 "nbformat": 4,
 "nbformat_minor": 2
}
