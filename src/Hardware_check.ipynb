{
 "cells": [
  {
   "cell_type": "code",
   "execution_count": null,
   "metadata": {},
   "outputs": [],
   "source": [
    "import torch\n",
    "from IPython.display import Image  # for displaying images"
   ]
  },
  {
   "cell_type": "code",
   "execution_count": null,
   "metadata": {},
   "outputs": [],
   "source": [
    "def pytorch_test():\n",
    "\tif torch.cuda.is_available():\n",
    "\t\tprint('torch %s %s' % (torch.__version__, torch.cuda.get_device_properties(0)))\n",
    "\t\tprint(\"\\nCUDA available.\")\n",
    "\t\tprint(f\"\\nCurrent CUDA device: {torch.cuda.current_device()}\")\n",
    "\t\tprint(f\"\\nCurrent CUDA device name: {torch.cuda.get_device_name(0)}\")\n",
    "\t\tdevice = torch.device(\"cuda:0\")\n",
    "\telse:\n",
    "\t\tprint('torch %s %s' % (torch.__version__, \"CPU\"))\n",
    "\t\tdevice = torch.device(\"cpu\")\n",
    "\n",
    "\tx = torch.rand(5, 3).to(device)\n",
    "\tprint(f\"\\nx: {x}\")\n",
    "\tprint(f\"\\n x Processed by CUDA: {x.is_cuda}\")\n",
    "\n",
    "\tX_train = torch.FloatTensor([0., 1., 2.]).to(device)\n",
    "\tprint(f\"\\nX_Train: {X_train}\")\n",
    "\tprint(f\"\\nX_Train Processed by CUDA: {X_train.is_cuda}\")\n",
    "    \n",
    "if __name__ == '__main__':\n",
    "\tpytorch_test()"
   ]
  },
  {
   "cell_type": "code",
   "execution_count": null,
   "metadata": {},
   "outputs": [],
   "source": []
  }
 ],
 "metadata": {
  "interpreter": {
   "hash": "8b6680a19dcaec8e165d18a510dc229b2e1254c25878629f1953510060b3675d"
  },
  "kernelspec": {
   "display_name": "Python 3.9.12 ('venv_mac': venv)",
   "language": "python",
   "name": "python3"
  },
  "language_info": {
   "codemirror_mode": {
    "name": "ipython",
    "version": 3
   },
   "file_extension": ".py",
   "mimetype": "text/x-python",
   "name": "python",
   "nbconvert_exporter": "python",
   "pygments_lexer": "ipython3",
   "version": "3.9.12"
  },
  "orig_nbformat": 4
 },
 "nbformat": 4,
 "nbformat_minor": 2
}
