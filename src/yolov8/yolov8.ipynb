{
 "cells": [
  {
   "cell_type": "code",
   "execution_count": null,
   "metadata": {},
   "outputs": [],
   "source": [
    "from ultralytics import YOLO\n",
    "\n",
    "# Load a pre-trained model\n",
    "model = YOLO(\"yolov8n.pt\")\n",
    "\n",
    "# Start training\n",
    "# Launch tensorboard with:\n",
    "# tensorboard --logdir=runs\n",
    "trained = model.train(data=\"../datasets/DATASET/data.yaml\", epochs=30, device=\"mps\", save=True)"
   ]
  },
  {
   "cell_type": "code",
   "execution_count": null,
   "metadata": {},
   "outputs": [],
   "source": [
    "# Load best weights\n",
    "trained_model = YOLO(\"runs/detect/TRAIN-X/weights/best.pt\")\n",
    "\n",
    "# Validation\n",
    "# metrics = trained_model.val()  # Evaluate model performance on validation set\n",
    "\n",
    "# Prediction\n",
    "trained_model.predict(source=\"https://bynn.etiennecollin.com/docs/assets/images/examples_of_mitosis_stages.jpg\", conf=0.25, save=True)\n"
   ]
  },
  {
   "cell_type": "code",
   "execution_count": null,
   "metadata": {},
   "outputs": [],
   "source": []
  }
 ],
 "metadata": {
  "kernelspec": {
   "display_name": "ai",
   "language": "python",
   "name": "python3"
  },
  "language_info": {
   "codemirror_mode": {
    "name": "ipython",
    "version": 3
   },
   "file_extension": ".py",
   "mimetype": "text/x-python",
   "name": "python",
   "nbconvert_exporter": "python",
   "pygments_lexer": "ipython3",
   "version": "3.11.3"
  },
  "orig_nbformat": 4
 },
 "nbformat": 4,
 "nbformat_minor": 2
}
